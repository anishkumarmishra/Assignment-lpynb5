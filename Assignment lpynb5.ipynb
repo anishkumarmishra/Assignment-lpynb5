{
  "nbformat": 4,
  "nbformat_minor": 0,
  "metadata": {
    "colab": {
      "provenance": []
    },
    "kernelspec": {
      "name": "python3",
      "display_name": "Python 3"
    },
    "language_info": {
      "name": "python"
    }
  },
  "cells": [
    {
      "cell_type": "markdown",
      "source": [
        "###1. What does an empty dictionary&#39;s code look like?"
      ],
      "metadata": {
        "id": "T7RZzXEEepWx"
      }
    },
    {
      "cell_type": "code",
      "source": [
        "#answer\n",
        "dict={}\n",
        "type(dict)"
      ],
      "metadata": {
        "colab": {
          "base_uri": "https://localhost:8080/"
        },
        "id": "w2uOjAEae-Mj",
        "outputId": "eff9feef-fc1a-41c8-c450-4d03f9de97a1"
      },
      "execution_count": 4,
      "outputs": [
        {
          "output_type": "execute_result",
          "data": {
            "text/plain": [
              "dict"
            ]
          },
          "metadata": {},
          "execution_count": 4
        }
      ]
    },
    {
      "cell_type": "markdown",
      "source": [
        "####2. What is the value of a dictionary value with the key &#39;foo&#39; and the value 42?"
      ],
      "metadata": {
        "id": "iT4_Fnx-f3DZ"
      }
    },
    {
      "cell_type": "code",
      "source": [
        "#Answer\n",
        "{'foo', 42}"
      ],
      "metadata": {
        "colab": {
          "base_uri": "https://localhost:8080/"
        },
        "id": "W3UIrPPwgEk0",
        "outputId": "8ef6265e-07da-45e2-860e-6f8549440279"
      },
      "execution_count": 5,
      "outputs": [
        {
          "output_type": "execute_result",
          "data": {
            "text/plain": [
              "{42, 'foo'}"
            ]
          },
          "metadata": {},
          "execution_count": 5
        }
      ]
    },
    {
      "cell_type": "markdown",
      "source": [
        "####3. What is the most significant distinction between a dictionary and a list?\n",
        "\n",
        "#####Answer :- \n",
        "Most significant difference:\n",
        "\n",
        "List - items in list are Ordered\n",
        "\n",
        "Dictionary : items in dictionary are unordered"
      ],
      "metadata": {
        "id": "Q9xr9JBcgZSQ"
      }
    },
    {
      "cell_type": "markdown",
      "source": [
        "####4. What happens if you try to access spam[&#39;foo&#39;] if spam is {&#39;bar&#39;: 100}?\n",
        "\n",
        "####Answer\n",
        "This will give us key error"
      ],
      "metadata": {
        "id": "rDoyzxCppu72"
      }
    },
    {
      "cell_type": "code",
      "source": [
        "Spam = {'bar' :100}\n",
        "Spam['foo']"
      ],
      "metadata": {
        "colab": {
          "base_uri": "https://localhost:8080/",
          "height": 183
        },
        "id": "_LEkgzboqMTS",
        "outputId": "55495746-90f0-4d23-ae05-923b7408b5aa"
      },
      "execution_count": 7,
      "outputs": [
        {
          "output_type": "error",
          "ename": "KeyError",
          "evalue": "ignored",
          "traceback": [
            "\u001b[0;31m---------------------------------------------------------------------------\u001b[0m",
            "\u001b[0;31mKeyError\u001b[0m                                  Traceback (most recent call last)",
            "\u001b[0;32m<ipython-input-7-bfd57eaea903>\u001b[0m in \u001b[0;36m<module>\u001b[0;34m\u001b[0m\n\u001b[1;32m      1\u001b[0m \u001b[0mSpam\u001b[0m \u001b[0;34m=\u001b[0m \u001b[0;34m{\u001b[0m\u001b[0;34m'bar'\u001b[0m \u001b[0;34m:\u001b[0m\u001b[0;36m100\u001b[0m\u001b[0;34m}\u001b[0m\u001b[0;34m\u001b[0m\u001b[0;34m\u001b[0m\u001b[0m\n\u001b[0;32m----> 2\u001b[0;31m \u001b[0mSpam\u001b[0m\u001b[0;34m[\u001b[0m\u001b[0;34m'foo'\u001b[0m\u001b[0;34m]\u001b[0m\u001b[0;34m\u001b[0m\u001b[0;34m\u001b[0m\u001b[0m\n\u001b[0m",
            "\u001b[0;31mKeyError\u001b[0m: 'foo'"
          ]
        }
      ]
    },
    {
      "cell_type": "markdown",
      "source": [
        "####5. If a dictionary is stored in spam, what is the difference between the expressions &#39;cat&#39; in spam and &#39;cat&#39; in spam.keys()?\n",
        "\n",
        "####Answer \n",
        "There are no diffirence, both check if 'cat' is key of the dictionary and if its a key, returns true."
      ],
      "metadata": {
        "id": "luqdBIKurLlt"
      }
    },
    {
      "cell_type": "code",
      "source": [
        "Spam = {'cat' :100}\n",
        "'cat' in Spam"
      ],
      "metadata": {
        "colab": {
          "base_uri": "https://localhost:8080/"
        },
        "id": "Qwpc6SmzsX5F",
        "outputId": "d14c9b5d-d14c-42d1-dbff-62fc38c8077a"
      },
      "execution_count": 8,
      "outputs": [
        {
          "output_type": "execute_result",
          "data": {
            "text/plain": [
              "True"
            ]
          },
          "metadata": {},
          "execution_count": 8
        }
      ]
    },
    {
      "cell_type": "code",
      "source": [
        "'cat' in Spam.keys()"
      ],
      "metadata": {
        "colab": {
          "base_uri": "https://localhost:8080/"
        },
        "id": "aDP_UVsZsq4M",
        "outputId": "f7473ae5-b7b2-46e0-827d-5d13441d582f"
      },
      "execution_count": 9,
      "outputs": [
        {
          "output_type": "execute_result",
          "data": {
            "text/plain": [
              "True"
            ]
          },
          "metadata": {},
          "execution_count": 9
        }
      ]
    },
    {
      "cell_type": "markdown",
      "source": [
        "####6. If a dictionary is stored in spam, what is the difference between the expressions &#39;cat&#39; in spam and\n",
        "&#39;cat&#39; in spam.values()?\n",
        "\n",
        "####Answer \n",
        "#####'cat' in spam checks whether there is a 'cat' key in the dictionary\n",
        "#####'cat' in spam.values() checks whether there is a value 'cat' for one of the keys in spam."
      ],
      "metadata": {
        "id": "XNDfzjxntAKE"
      }
    },
    {
      "cell_type": "code",
      "source": [
        "Spam = {'cat': 100}\n",
        "'cat'in Spam"
      ],
      "metadata": {
        "colab": {
          "base_uri": "https://localhost:8080/"
        },
        "id": "gS9i9iVstT8f",
        "outputId": "926bea06-fa28-41bc-8f28-cc49bcf0cd3a"
      },
      "execution_count": 10,
      "outputs": [
        {
          "output_type": "execute_result",
          "data": {
            "text/plain": [
              "True"
            ]
          },
          "metadata": {},
          "execution_count": 10
        }
      ]
    },
    {
      "cell_type": "code",
      "source": [
        "'cat' in Spam.values()"
      ],
      "metadata": {
        "colab": {
          "base_uri": "https://localhost:8080/"
        },
        "id": "SK-OgBrMteQ_",
        "outputId": "ddda2a4d-ebb9-4b8d-a42e-b1901972f995"
      },
      "execution_count": 13,
      "outputs": [
        {
          "output_type": "execute_result",
          "data": {
            "text/plain": [
              "False"
            ]
          },
          "metadata": {},
          "execution_count": 13
        }
      ]
    },
    {
      "cell_type": "markdown",
      "source": [
        "####7. What is a shortcut for the following code?\n",
        "\n",
        "   #### if &#39;color&#39; not in spam:\n",
        "\n",
        "####spam[&#39;color&#39;] = &#39;black&#39;"
      ],
      "metadata": {
        "id": "tz1P46EDuEIF"
      }
    },
    {
      "cell_type": "code",
      "source": [
        "Spam = {'cat': 100}\n",
        "Spam.setdefault('color', 'Black')\n",
        "Spam"
      ],
      "metadata": {
        "colab": {
          "base_uri": "https://localhost:8080/"
        },
        "id": "ksJg1MzpvYxj",
        "outputId": "0c04a4e3-7617-426e-da2f-77f2446ffe81"
      },
      "execution_count": 14,
      "outputs": [
        {
          "output_type": "execute_result",
          "data": {
            "text/plain": [
              "{'cat': 100, 'color': 'Black'}"
            ]
          },
          "metadata": {},
          "execution_count": 14
        }
      ]
    },
    {
      "cell_type": "markdown",
      "source": [
        "8. How do you &quot;pretty print&quot; dictionary values using which module and function?"
      ],
      "metadata": {
        "id": "rHFRcyadwWGK"
      }
    },
    {
      "cell_type": "code",
      "source": [
        "import pprint\n",
        "dct = [ {'Name': 'Shiva', 'Age': '23', 'Country': 'India'},\n",
        "  {'Name': 'Anna', 'Age': '44', 'Country': 'China'},\n",
        "  {'Name': 'Joe', 'Age': '29', 'Country': 'UK'},\n",
        "  {'Name': 'Chumlee', 'Age': '35', 'Country': 'USA'}\n",
        "]"
      ],
      "metadata": {
        "id": "Ka_zIVPw3U_2"
      },
      "execution_count": 21,
      "outputs": []
    },
    {
      "cell_type": "code",
      "source": [
        "pprint.pprint(dct)"
      ],
      "metadata": {
        "colab": {
          "base_uri": "https://localhost:8080/"
        },
        "id": "mQXKogxO3WJm",
        "outputId": "5581b8d1-083d-4b1c-b7e0-bbf297e66bec"
      },
      "execution_count": 22,
      "outputs": [
        {
          "output_type": "stream",
          "name": "stdout",
          "text": [
            "[{'Age': '23', 'Country': 'India', 'Name': 'Shiva'},\n",
            " {'Age': '44', 'Country': 'China', 'Name': 'Anna'},\n",
            " {'Age': '29', 'Country': 'UK', 'Name': 'Joe'},\n",
            " {'Age': '35', 'Country': 'USA', 'Name': 'Chumlee'}]\n"
          ]
        }
      ]
    },
    {
      "cell_type": "code",
      "source": [
        "print(dct)"
      ],
      "metadata": {
        "colab": {
          "base_uri": "https://localhost:8080/"
        },
        "id": "ZKcIGFX43mp3",
        "outputId": "ec370926-d8df-4e48-b3fc-b7b86aa857ca"
      },
      "execution_count": 26,
      "outputs": [
        {
          "output_type": "stream",
          "name": "stdout",
          "text": [
            "[{'Name': 'Shiva', 'Age': '23', 'Country': 'India'}, {'Name': 'Anna', 'Age': '44', 'Country': 'China'}, {'Name': 'Joe', 'Age': '29', 'Country': 'UK'}, {'Name': 'Chumlee', 'Age': '35', 'Country': 'USA'}]\n"
          ]
        }
      ]
    },
    {
      "cell_type": "code",
      "source": [],
      "metadata": {
        "id": "m_WELtKk4FEb"
      },
      "execution_count": null,
      "outputs": []
    }
  ]
}